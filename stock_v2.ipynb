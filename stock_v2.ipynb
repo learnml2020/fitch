{
 "cells": [
  {
   "cell_type": "code",
   "execution_count": 1,
   "metadata": {},
   "outputs": [
    {
     "name": "stdout",
     "output_type": "stream",
     "text": [
      "progress: 64.57%"
     ]
    }
   ],
   "source": [
    "import requests\n",
    "from bs4 import BeautifulSoup\n",
    "import re\n",
    "\n",
    "\n",
    "def getHTMLText(url, code=\"utf-8\"):\n",
    "    try:\n",
    "        r = requests.get(url)\n",
    "        r.raise_for_status()\n",
    "        r.encoding = code \n",
    "        return r.text\n",
    "    except:\n",
    "        return \"\"\n",
    "\n",
    "\n",
    "def getStockList(lst, stockURL):\n",
    "    html = getHTMLText(stockURL, \"GB2312\") \n",
    "    soup = BeautifulSoup(html, 'html.parser')\n",
    "    a = soup.find_all('a')[:200] \n",
    "    for i in a:\n",
    "        try:\n",
    "            href = i.attrs['href']\n",
    "            lst.append(re.findall(r\"\\d{6}\", href)[0])\n",
    "        except:\n",
    "            continue\n",
    "\n",
    "\n",
    "def getStockInfo(lst, stockURL, fpath):\n",
    "    count = 0\n",
    "    for stock in lst:\n",
    "        url = stockURL + stock  \n",
    "        html = getHTMLText(url)\n",
    "        try:\n",
    "            if html == \"\":\n",
    "                continue\n",
    "            infoDict = {} \n",
    "            soup = BeautifulSoup(html, 'html.parser')\n",
    "            stockInfo = soup.find('div', attrs={'class': 'stock-info'})\n",
    "            name = stockInfo.find_all(attrs={'class': 'stock-name'})[0]\n",
    "            infoDict.update({'股票名称': name.text.split()[0]})  \n",
    "            keyList = stockInfo.find_all('dt')[:6]  \n",
    "            valueList = stockInfo.find_all('dd')[:6]\n",
    "            for i in range(len(keyList)):\n",
    "                key = keyList[i].text\n",
    "                val = valueList[i].text\n",
    "                infoDict[key] = val\n",
    "            with open(fpath, 'a', encoding='utf-8') as f:\n",
    "                f.write(str(infoDict) + '\\n')\n",
    "                count = count + 1\n",
    "                print(\"\\rprogress: {:.2f}%\".format(count * 100 / len(lst)), end=\"\")                 \n",
    "        except:\n",
    "            count = count + 1\n",
    "            print(\"\\rprogrss: {:.2f}%\".format(count * 100 / len(lst)), end=\"\")\n",
    "            continue\n",
    "\n",
    "\n",
    "def main():\n",
    "    stock_list_url = 'https://quote.eastmoney.com/stock_list.html'  \n",
    "    stock_info_url = 'https://www.laohu8.com/stock/'  \n",
    "    output_file = 'Stockv200.csv'\n",
    "    slist = []\n",
    "    getStockList(slist, stock_list_url)\n",
    "    getStockInfo(slist, stock_info_url, output_file)\n",
    "\n",
    "\n",
    "main()"
   ]
  },
  {
   "cell_type": "code",
   "execution_count": null,
   "metadata": {},
   "outputs": [],
   "source": []
  },
  {
   "cell_type": "code",
   "execution_count": null,
   "metadata": {},
   "outputs": [],
   "source": []
  }
 ],
 "metadata": {
  "kernelspec": {
   "display_name": "Python 3",
   "language": "python",
   "name": "python3"
  },
  "language_info": {
   "codemirror_mode": {
    "name": "ipython",
    "version": 3
   },
   "file_extension": ".py",
   "mimetype": "text/x-python",
   "name": "python",
   "nbconvert_exporter": "python",
   "pygments_lexer": "ipython3",
   "version": "3.7.6"
  }
 },
 "nbformat": 4,
 "nbformat_minor": 4
}
